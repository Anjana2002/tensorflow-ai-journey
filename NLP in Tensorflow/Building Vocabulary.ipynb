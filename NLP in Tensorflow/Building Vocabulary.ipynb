{
 "cells": [
  {
   "cell_type": "code",
   "execution_count": 13,
   "id": "ff6125c7-e425-4c51-958f-e010f4b29042",
   "metadata": {},
   "outputs": [
    {
     "name": "stdout",
     "output_type": "stream",
     "text": [
      "0 my\n",
      "1 love\n",
      "2 dog\n",
      "3 you\n",
      "4 i\n",
      "5 think\n",
      "6 is\n",
      "7 do\n",
      "8 cat\n",
      "9 amazing\n"
     ]
    }
   ],
   "source": [
    "import tensorflow as tf\n",
    "sentences = [\n",
    "    'I love my dog',\n",
    "    'I, love my cat',\n",
    "    'You love my dog',\n",
    "    'Do you think my dog is amazing?'\n",
    "    \n",
    "]\n",
    "#layer intializing\n",
    "vectorize_layers = tf.keras.layers.TextVectorization()\n",
    "#build vocabulary\n",
    "vectorize_layers.adapt(sentences)\n",
    "vocabulary = vectorize_layers.get_vocabulary(include_special_tokens=False)\n",
    "for index, word in enumerate(vocabulary):\n",
    "    print(index, word)"
   ]
  },
  {
   "cell_type": "code",
   "execution_count": 12,
   "id": "43e17d9a-916c-4b4f-94c4-a6f4e5b082bf",
   "metadata": {},
   "outputs": [
    {
     "name": "stdout",
     "output_type": "stream",
     "text": [
      "tf.Tensor([6 3 2 4], shape=(4,), dtype=int64)\n"
     ]
    }
   ],
   "source": [
    "#input sentence to integer sequence\n",
    "sample_input = 'I Love my dog'\n",
    "sequence = vectorize_layers(sample_input)\n",
    "print(sequence)"
   ]
  },
  {
   "cell_type": "code",
   "execution_count": 15,
   "id": "6dde1d69-fe94-4c7d-a72c-718234cfdbdc",
   "metadata": {},
   "outputs": [
    {
     "name": "stdout",
     "output_type": "stream",
     "text": [
      "I love my dog --> [6 3 2 4]\n",
      "I, love my cat --> [ 6  3  2 10]\n",
      "You love my dog --> [5 3 2 4]\n",
      "Do you think my dog is amazing? --> [ 9  5  7  2  4  8 11]\n"
     ]
    }
   ],
   "source": [
    "sentences_dataset = tf.data.Dataset.from_tensor_slices(sentences)\n",
    "sequences = sentences_dataset.map(vectorize_layers)\n",
    "for sentence, sequence in zip(sentences, sequences):\n",
    "    print(f'{sentence} --> {sequence}')"
   ]
  },
  {
   "cell_type": "markdown",
   "id": "c3c3562d-bdab-4107-9138-adf287e58133",
   "metadata": {},
   "source": [
    "## Padding"
   ]
  },
  {
   "cell_type": "code",
   "execution_count": 18,
   "id": "03ae8577-1983-404a-9f44-9302d905f050",
   "metadata": {},
   "outputs": [
    {
     "name": "stdout",
     "output_type": "stream",
     "text": [
      "['I love my dog', 'I, love my cat', 'You love my dog', 'Do you think my dog is amazing?']\n",
      "tf.Tensor(\n",
      "[[ 6  3  2  4  0  0  0]\n",
      " [ 6  3  2 10  0  0  0]\n",
      " [ 5  3  2  4  0  0  0]\n",
      " [ 9  5  7  2  4  8 11]], shape=(4, 7), dtype=int64)\n"
     ]
    }
   ],
   "source": [
    "#post padding\n",
    "sequence_post = vectorize_layers(sentences)\n",
    "print(sentences)\n",
    "print(sequence_post)"
   ]
  },
  {
   "cell_type": "code",
   "execution_count": 20,
   "id": "27c64d03-1078-47d9-a70e-8a484487a1c3",
   "metadata": {},
   "outputs": [
    {
     "name": "stdout",
     "output_type": "stream",
     "text": [
      "[[ 0  0  0  6  3  2  4]\n",
      " [ 0  0  0  6  3  2 10]\n",
      " [ 0  0  0  5  3  2  4]\n",
      " [ 9  5  7  2  4  8 11]]\n"
     ]
    },
    {
     "name": "stderr",
     "output_type": "stream",
     "text": [
      "2025-07-29 20:34:47.145674: I tensorflow/core/framework/local_rendezvous.cc:407] Local rendezvous is aborting with status: OUT_OF_RANGE: End of sequence\n"
     ]
    }
   ],
   "source": [
    "#pre padding\n",
    "sequences_pre = tf.keras.utils.pad_sequences(sequences, padding='pre')\n",
    "print(sequences_pre)"
   ]
  },
  {
   "cell_type": "code",
   "execution_count": 22,
   "id": "2b872723-5389-47f5-a6c2-b7e060dfcd94",
   "metadata": {},
   "outputs": [
    {
     "name": "stdout",
     "output_type": "stream",
     "text": [
      "[[ 0  6  3  2  4]\n",
      " [ 0  6  3  2 10]\n",
      " [ 0  5  3  2  4]\n",
      " [ 7  2  4  8 11]]\n"
     ]
    },
    {
     "name": "stderr",
     "output_type": "stream",
     "text": [
      "2025-07-29 20:35:53.735274: I tensorflow/core/framework/local_rendezvous.cc:407] Local rendezvous is aborting with status: OUT_OF_RANGE: End of sequence\n"
     ]
    }
   ],
   "source": [
    "sequences_post_trunc = tf.keras.utils.pad_sequences(sequences, maxlen=5, padding='pre')\n",
    "print(sequences_post_trunc)"
   ]
  },
  {
   "cell_type": "code",
   "execution_count": 23,
   "id": "c640da4b-9e78-4ea8-bc39-fd846ac3181a",
   "metadata": {},
   "outputs": [
    {
     "name": "stdout",
     "output_type": "stream",
     "text": [
      "<tf.RaggedTensor [[6, 3, 2, 4], [6, 3, 2, 10], [5, 3, 2, 4], [9, 5, 7, 2, 4, 8, 11]]>\n"
     ]
    }
   ],
   "source": [
    "vectorize_layer = tf.keras.layers.TextVectorization(ragged=True)\n",
    "vectorize_layer.adapt(sentences)\n",
    "ragged_sentence = vectorize_layer(sentences)\n",
    "print(ragged_sentence)"
   ]
  },
  {
   "cell_type": "code",
   "execution_count": 25,
   "id": "b89bcc65-8c30-475f-b794-bf3d0123eb34",
   "metadata": {},
   "outputs": [
    {
     "name": "stdout",
     "output_type": "stream",
     "text": [
      "[[ 0  0  0  6  3  2  4]\n",
      " [ 0  0  0  6  3  2 10]\n",
      " [ 0  0  0  5  3  2  4]\n",
      " [ 9  5  7  2  4  8 11]]\n"
     ]
    }
   ],
   "source": [
    "sequences_pre = tf.keras.utils.pad_sequences(ragged_sentence.numpy())\n",
    "print(sequences_pre)"
   ]
  },
  {
   "cell_type": "markdown",
   "id": "a3f57c9a-2560-4236-a13a-9c669dd7b998",
   "metadata": {},
   "source": [
    "## Out of Vocabulary\n",
    "The layer will use token 1 when you have input words that are not found in the vocabulary list"
   ]
  },
  {
   "cell_type": "code",
   "execution_count": 26,
   "id": "df9ce7b0-c545-4936-8cb1-de7ced08cd0d",
   "metadata": {},
   "outputs": [
    {
     "name": "stdout",
     "output_type": "stream",
     "text": [
      "i really love my dog --> [6 1 3 2 4]\n",
      "my dog loves my manatte --> [2 4 1 2 1]\n"
     ]
    }
   ],
   "source": [
    "sentences_with_oov =[\n",
    "    'i really love my dog',\n",
    "    'my dog loves my manatte'\n",
    "]\n",
    "sequences_with_oov = vectorize_layer(sentences_with_oov)\n",
    "for sentence, sequence in zip(sentences_with_oov, sequences_with_oov):\n",
    "    print(f'{sentence} --> {sequence}')"
   ]
  },
  {
   "cell_type": "code",
   "execution_count": null,
   "id": "5f94e5ef-1f7e-4e98-8c1c-b2944d620135",
   "metadata": {},
   "outputs": [],
   "source": []
  },
  {
   "cell_type": "code",
   "execution_count": null,
   "id": "f05be89f-e96b-40af-a51f-18352a2f4a6f",
   "metadata": {},
   "outputs": [],
   "source": []
  }
 ],
 "metadata": {
  "kernelspec": {
   "display_name": "Python 3 (ipykernel)",
   "language": "python",
   "name": "python3"
  },
  "language_info": {
   "codemirror_mode": {
    "name": "ipython",
    "version": 3
   },
   "file_extension": ".py",
   "mimetype": "text/x-python",
   "name": "python",
   "nbconvert_exporter": "python",
   "pygments_lexer": "ipython3",
   "version": "3.10.12"
  }
 },
 "nbformat": 4,
 "nbformat_minor": 5
}
