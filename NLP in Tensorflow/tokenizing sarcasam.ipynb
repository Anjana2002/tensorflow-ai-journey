{
 "cells": [
  {
   "cell_type": "code",
   "execution_count": 3,
   "id": "60c49754-8fed-4249-b37c-21d6211ee120",
   "metadata": {},
   "outputs": [],
   "source": [
    "import tensorflow as tf\n",
    "import json\n",
    "import tensorflow_datasets as tfds"
   ]
  },
  {
   "cell_type": "code",
   "execution_count": 14,
   "id": "e5d7913e-5c11-45c6-8cd1-0b4dd24b2f8f",
   "metadata": {},
   "outputs": [],
   "source": [
    "datastore = []\n",
    "with open('/home/anjana/Project/tensorflow-ai-journey/data/sarcasam/Sarcasm_Headlines_Dataset.json', 'r') as f:\n",
    "    for line in f:\n",
    "        datastore.append(json.loads(line))"
   ]
  },
  {
   "cell_type": "code",
   "execution_count": 9,
   "id": "6b08ea85-c58c-474b-bb76-08003949d997",
   "metadata": {},
   "outputs": [
    {
     "name": "stdout",
     "output_type": "stream",
     "text": [
      "{'article_link': 'https://www.huffingtonpost.com/entry/versace-black-code_us_5861fbefe4b0de3a08f600d5', 'headline': \"former versace store clerk sues over secret 'black code' for minority shoppers\", 'is_sarcastic': 0}\n"
     ]
    }
   ],
   "source": [
    "print(datastore[0])"
   ]
  },
  {
   "cell_type": "code",
   "execution_count": 11,
   "id": "2b9848b2-303c-472c-88b0-f7ef4558ee18",
   "metadata": {},
   "outputs": [],
   "source": [
    "sentences = [item['headline'] for item in datastore]"
   ]
  },
  {
   "cell_type": "code",
   "execution_count": 12,
   "id": "f803ffb7-50ac-49ec-8bc5-fe2e84f7e774",
   "metadata": {},
   "outputs": [
    {
     "name": "stderr",
     "output_type": "stream",
     "text": [
      "2025-07-30 21:00:10.539638: E external/local_xla/xla/stream_executor/cuda/cuda_platform.cc:51] failed call to cuInit: INTERNAL: CUDA error: Failed call to cuInit: UNKNOWN ERROR (303)\n"
     ]
    }
   ],
   "source": [
    "vectorize_layer = tf.keras.layers.TextVectorization()\n",
    "vectorize_layer.adapt(sentences)\n",
    "post_padded_sequences = vectorize_layer(sentences)"
   ]
  },
  {
   "cell_type": "code",
   "execution_count": 13,
   "id": "10fce25d-4120-4127-a4f0-c0b44d774c04",
   "metadata": {},
   "outputs": [
    {
     "name": "stdout",
     "output_type": "stream",
     "text": [
      "sample headline: mom starting to fear son's web series closest thing she will have to grandchild\n",
      "padded sequence: [  140   825     2   813  1100  2048   571  5057   199   139    39    46\n",
      "     2 13050     0     0     0     0     0     0     0     0     0     0\n",
      "     0     0     0     0     0     0     0     0     0     0     0     0\n",
      "     0     0     0]\n",
      "shape of padded sequence:(26709, 39)\n"
     ]
    }
   ],
   "source": [
    "index = 2\n",
    "print(f'sample headline: {sentences[index]}')\n",
    "print(f'padded sequence: {post_padded_sequences[index]}')\n",
    "print(f'shape of padded sequence:{post_padded_sequences.shape}')"
   ]
  },
  {
   "cell_type": "code",
   "execution_count": null,
   "id": "08ee0cab-430c-4def-a68a-78fee86e22fc",
   "metadata": {},
   "outputs": [],
   "source": []
  }
 ],
 "metadata": {
  "kernelspec": {
   "display_name": "Python 3 (ipykernel)",
   "language": "python",
   "name": "python3"
  },
  "language_info": {
   "codemirror_mode": {
    "name": "ipython",
    "version": 3
   },
   "file_extension": ".py",
   "mimetype": "text/x-python",
   "name": "python",
   "nbconvert_exporter": "python",
   "pygments_lexer": "ipython3",
   "version": "3.10.12"
  }
 },
 "nbformat": 4,
 "nbformat_minor": 5
}
